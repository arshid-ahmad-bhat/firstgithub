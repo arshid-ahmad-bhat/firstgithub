{
 "cells": [
  {
   "cell_type": "markdown",
   "id": "30ce2f55-8403-42c1-b4f3-07ef6f76a925",
   "metadata": {},
   "source": [
    "# Python Basics\n",
    "### 01_nthprogram"
   ]
  },
  {
   "cell_type": "code",
   "execution_count": 3,
   "id": "9d63d0ec-0962-4c5d-8d6d-b5954706c7d8",
   "metadata": {},
   "outputs": [
    {
     "name": "stdout",
     "output_type": "stream",
     "text": [
      "HI, Python I'm Back.\n"
     ]
    }
   ],
   "source": [
    "print(\"HI, Python I'm Back.\")"
   ]
  },
  {
   "cell_type": "markdown",
   "id": "573ca43f-0233-4622-87f0-c8e98fcf08a2",
   "metadata": {},
   "source": [
    "### 02_operators\n",
    "**PEMDAS**\n",
    "  -Parentesis Exponents Multiply Divide Addition Subtraction\n",
    " -left to right sequence for M D A & S"
   ]
  },
  {
   "cell_type": "code",
   "execution_count": 6,
   "id": "235ca6a8-72b9-4a6c-b6a4-1e3cab66f9aa",
   "metadata": {},
   "outputs": [
    {
     "name": "stdout",
     "output_type": "stream",
     "text": [
      "5\n",
      "0\n",
      "1\n",
      "8\n",
      "83\n"
     ]
    }
   ],
   "source": [
    "print(2+3)\n",
    "print(3-3)\n",
    "print(2//2)\n",
    "print(2**3)\n",
    "print(3**4+3-4//3)"
   ]
  },
  {
   "cell_type": "markdown",
   "id": "43a7d73a-5a41-472d-8d67-d94176c70f6e",
   "metadata": {},
   "source": [
    "### 03_strigs"
   ]
  },
  {
   "cell_type": "code",
   "execution_count": 7,
   "id": "6f3789fd-2c7e-4f38-9288-abcff7345530",
   "metadata": {},
   "outputs": [
    {
     "name": "stdout",
     "output_type": "stream",
     "text": [
      "Learning Python\n",
      "Learning Python\n",
      " learnogn\n",
      "What's up\n",
      "    What's       up   \n"
     ]
    }
   ],
   "source": [
    "print('Learning Python')\n",
    "print(\"Learning Python\")\n",
    "print(''' learnogn''')\n",
    "print(  \"What's up\")\n",
    "print(  \"    What's       up   \")\n"
   ]
  },
  {
   "cell_type": "markdown",
   "id": "e59f44cc-9ccd-4c7c-8065-8373e8bda222",
   "metadata": {},
   "source": [
    "### 04_comments"
   ]
  },
  {
   "cell_type": "code",
   "execution_count": 9,
   "id": "2a3e13a1-bdd7-468d-be80-7ab01a3f7351",
   "metadata": {},
   "outputs": [
    {
     "name": "stdout",
     "output_type": "stream",
     "text": [
      "5\n",
      "What's up\n",
      "What's up\n",
      "What's up\n",
      "What's up\n"
     ]
    }
   ],
   "source": [
    "# press Ctrl+/ to comment \n",
    "# print(\"We are earing python\")\n",
    "print(2+3)\n",
    "print(  \"What's up\")\n",
    "print(  \"What's up\")\n",
    "print(  \"What's up\")\n",
    "print(  \"What's up\")"
   ]
  },
  {
   "cell_type": "markdown",
   "id": "45410900-06d4-4eab-bf12-7a22b05467e8",
   "metadata": {},
   "source": [
    "### 05_variables"
   ]
  },
  {
   "cell_type": "code",
   "execution_count": 12,
   "id": "f413196a-94eb-4cb6-b45a-de5038247979",
   "metadata": {},
   "outputs": [
    {
     "name": "stdout",
     "output_type": "stream",
     "text": [
      "5\n",
      "We are Python Experts\n",
      "15\n",
      "<class 'int'>\n",
      "<class 'str'>\n"
     ]
    }
   ],
   "source": [
    "# Variables : objects contain specific values\n",
    "x = 5\n",
    "print(x)\n",
    "\n",
    "l = 'We are Python Experts'\n",
    "print(l)\n",
    "\n",
    "x=15\n",
    "print(x)\n",
    "\n",
    "# types of varibles\n",
    "type(x)\n",
    "\n",
    "print(type(x))\n",
    "print(type(l))\n",
    "\n",
    "#  Rules to assign varibles\n",
    "# 1- The varibles should contain latters, numbers or underscores\n",
    "# 2 - Dont start with numbers\n",
    "# 3- Spaces are not allowed\n",
    "#  4- Dont use keywordsused in functions(break, mean, median ,test etc)\n",
    "# 5- Short and descriptive\n",
    "# 7- Case Sensitivity (lowercase, upppercase letters shouldbe used)\n",
    "\n",
    "fruit_basket =8\n",
    "fruit_basket = \"Mangoes\"\n",
    "del fruit_basket\n",
    "# print(type(fruit_basket))\n",
    "# print(fruit_basket)"
   ]
  },
  {
   "cell_type": "markdown",
   "id": "183442b8-b73c-4e1d-999a-30bc70d4a8ba",
   "metadata": {},
   "source": [
    "### 06_INPUT Variables"
   ]
  },
  {
   "cell_type": "code",
   "execution_count": 13,
   "id": "b51f7e57-b8fa-4e2f-9dd1-5229a2933c7d",
   "metadata": {},
   "outputs": [
    {
     "name": "stdin",
     "output_type": "stream",
     "text": [
      "What is ur favfruite?  Aplle\n"
     ]
    },
    {
     "name": "stdout",
     "output_type": "stream",
     "text": [
      "Aplle\n"
     ]
    },
    {
     "name": "stdin",
     "output_type": "stream",
     "text": [
      "What i ur name ? Arshid\n",
      "How old are u  25\n"
     ]
    },
    {
     "name": "stdout",
     "output_type": "stream",
     "text": [
      "Welcome Arshid u r  25 old\n"
     ]
    }
   ],
   "source": [
    "# input function\n",
    "fruit_basket = input('What is ur favfruite? ')\n",
    "print(fruit_basket)\n",
    "\n",
    "name = input(\"What i ur name ?\")\n",
    "age = input(\"How old are u \")\n",
    "grettings= \"Welcome\"\n",
    "print(grettings, name, 'u r ', age, \"old\")"
   ]
  },
  {
   "cell_type": "markdown",
   "id": "c698cb1a-0778-4d9b-b168-3c039adf94e1",
   "metadata": {},
   "source": [
    "### 07_conditional logics"
   ]
  },
  {
   "cell_type": "code",
   "execution_count": 14,
   "id": "910af7c4-3c87-46c9-a535-144776a900f3",
   "metadata": {},
   "outputs": [
    {
     "name": "stdout",
     "output_type": "stream",
     "text": [
      "False\n",
      "True\n",
      "True\n",
      "True\n",
      "False\n",
      "True\n"
     ]
    },
    {
     "name": "stdin",
     "output_type": "stream",
     "text": [
      "How old is Arshid 25\n"
     ]
    },
    {
     "name": "stdout",
     "output_type": "stream",
     "text": [
      "<class 'int'>\n",
      "False\n"
     ]
    }
   ],
   "source": [
    "# equal to                  ==\n",
    "# not equal to              !=\n",
    "# less than                 <\n",
    "# greater than              >\n",
    "# less than and equal to     <=\n",
    "# greater than and equal to   >=\n",
    " \n",
    "#  logical operators are eaiter \"true or false\" 0r \"yes or no\" or\" 0 or 1\"\n",
    "\n",
    "print(3>4)\n",
    "print(4<5)\n",
    "print(5==5)\n",
    "print(5!=4)\n",
    "print(5<=4)\n",
    "print(4>=3)\n",
    "\n",
    "# application of logical operatoes / Input function and logical operators\n",
    "arshid_at_campus =24\n",
    "arshid_age = int(input('How old is Arshid'))\n",
    "\n",
    "print(type(arshid_age))\n",
    "print(arshid_age == arshid_at_campus)\n",
    "\n"
   ]
  },
  {
   "cell_type": "markdown",
   "id": "8cf9524b-b52f-46f5-9bae-a2969233afbc",
   "metadata": {},
   "source": [
    "###  08_type conversions"
   ]
  },
  {
   "cell_type": "code",
   "execution_count": 15,
   "id": "76ee9cca-a75d-466d-9ff0-803846181a63",
   "metadata": {},
   "outputs": [
    {
     "name": "stdout",
     "output_type": "stream",
     "text": [
      "<class 'float'>\n"
     ]
    },
    {
     "name": "stdin",
     "output_type": "stream",
     "text": [
      "What is ur age 25\n"
     ]
    },
    {
     "name": "stdout",
     "output_type": "stream",
     "text": [
      "<class 'str'>\n",
      "<class 'int'>\n"
     ]
    }
   ],
   "source": [
    "x= 10\n",
    "y = 103.3\n",
    "z = 'arshid'\n",
    "\n",
    "x= x*y\n",
    "print(type(x))\n",
    "\n",
    "# x becomes float , anything evaluated with folat becoems float,and it is implicit conversion\n",
    "\n",
    "age  = input(\"What is ur age\")\n",
    "print(type(age)) \n",
    "\n",
    "real_age = int(age)\n",
    "print(type(real_age)) \n",
    "\n"
   ]
  },
  {
   "cell_type": "markdown",
   "id": "901455b0-dbf6-4c9a-9df7-b28816061bb1",
   "metadata": {},
   "source": [
    "### 09_ifelse elif "
   ]
  },
  {
   "cell_type": "code",
   "execution_count": 16,
   "id": "1fe55ca1-36cb-41a6-ae67-c2e22d19ca5f",
   "metadata": {},
   "outputs": [
    {
     "name": "stdout",
     "output_type": "stream",
     "text": [
      "u r young\n"
     ]
    }
   ],
   "source": [
    "age =25 \n",
    "if age <=18 :\n",
    "    print('U r teen kid')\n",
    "elif age >18 & age <=35:\n",
    "    print(\"u r young\")\n",
    "else:\n",
    "    print(\"u r old\")\n"
   ]
  },
  {
   "cell_type": "markdown",
   "id": "ffef2df8-ea83-4dab-8139-d582c0eaeb19",
   "metadata": {},
   "source": [
    "### 10_Funcitons"
   ]
  },
  {
   "cell_type": "code",
   "execution_count": 18,
   "id": "f049b40f-c696-465a-a935-6c21663d7185",
   "metadata": {},
   "outputs": [
    {
     "name": "stdout",
     "output_type": "stream",
     "text": [
      "Hii\n",
      " Hoo\n"
     ]
    }
   ],
   "source": [
    "def messege (msg):\n",
    "    print (msg)\n",
    "    \n",
    "messege(\"Hii\")\n",
    "messege(\" Hoo\")  \n"
   ]
  },
  {
   "cell_type": "markdown",
   "id": "51065bdb-f288-463e-85d2-4dffdeb2ffe5",
   "metadata": {},
   "source": [
    "### 11_ Loops"
   ]
  },
  {
   "cell_type": "code",
   "execution_count": 19,
   "id": "f7ef27fd-e3b8-4748-bf74-295c63aadeb3",
   "metadata": {},
   "outputs": [
    {
     "name": "stdout",
     "output_type": "stream",
     "text": [
      "1\n",
      "2\n",
      "3\n",
      "4\n",
      "1\n",
      "2\n",
      "3\n",
      "4\n",
      "5\n",
      "6\n",
      "7\n",
      "8\n",
      "9\n",
      "1\n",
      "2\n",
      "3\n",
      "4\n",
      "5\n",
      "6\n"
     ]
    }
   ],
   "source": [
    "i =1\n",
    "while i<=7:\n",
    "    print(i)\n",
    "    i= i+1  \n",
    "    if (i==3): continue\n",
    "    if (i==5): break  \n",
    "\n",
    "for i in range(1,10):\n",
    "    print(i)\n",
    "\n",
    "numbers = [1,2,3,4,5,6]\n",
    "for n in numbers:\n",
    "    print(n)     \n",
    "   \n",
    "        "
   ]
  },
  {
   "cell_type": "code",
   "execution_count": null,
   "id": "f081fa6f-6cec-4d1d-9932-8faa9180589b",
   "metadata": {},
   "outputs": [],
   "source": []
  },
  {
   "cell_type": "markdown",
   "id": "e0a30945-658f-4126-b9ac-2de124ab2232",
   "metadata": {},
   "source": [
    "### 12- Import liberaires"
   ]
  },
  {
   "cell_type": "code",
   "execution_count": 20,
   "id": "5091f650-6b46-4eb7-817f-c29d7380ca05",
   "metadata": {},
   "outputs": [
    {
     "name": "stdout",
     "output_type": "stream",
     "text": [
      "3.141592653589793\n"
     ]
    }
   ],
   "source": [
    "import math\n",
    "print(math.pi)"
   ]
  },
  {
   "cell_type": "markdown",
   "id": "046b20dc-a521-4b7e-9df0-73f74adf0c3f",
   "metadata": {},
   "source": [
    "### 13_troubleshooting "
   ]
  },
  {
   "cell_type": "code",
   "execution_count": 21,
   "id": "89ee55c4-7adb-4303-9d18-ca5802173add",
   "metadata": {},
   "outputs": [
    {
     "name": "stdout",
     "output_type": "stream",
     "text": [
      "Welcome Arshid\n",
      "Welcome   Arshid\n",
      "Welcome Arshid\n"
     ]
    }
   ],
   "source": [
    "name = 'Arshid'\n",
    "# print('Welcome name')\n",
    "print('Welcome', name)\n",
    "print('Welcome  ', name)\n",
    "print('Welcome ' +name)"
   ]
  }
 ],
 "metadata": {
  "kernelspec": {
   "display_name": "Python 3 (ipykernel)",
   "language": "python",
   "name": "python3"
  },
  "language_info": {
   "codemirror_mode": {
    "name": "ipython",
    "version": 3
   },
   "file_extension": ".py",
   "mimetype": "text/x-python",
   "name": "python",
   "nbconvert_exporter": "python",
   "pygments_lexer": "ipython3",
   "version": "3.12.3"
  }
 },
 "nbformat": 4,
 "nbformat_minor": 5
}
