{
 "cells": [
  {
   "cell_type": "markdown",
   "id": "a4899127-ab81-4071-b66f-65a8b488fa95",
   "metadata": {},
   "source": [
    "# Variable Indexing"
   ]
  },
  {
   "cell_type": "code",
   "execution_count": 1,
   "id": "a687c05e-3f12-420f-93ee-4e746ca82669",
   "metadata": {},
   "outputs": [],
   "source": [
    "sms = \"Greetings\""
   ]
  },
  {
   "cell_type": "code",
   "execution_count": 2,
   "id": "c0303673-493f-4cce-be9f-c1abe6240fa4",
   "metadata": {},
   "outputs": [
    {
     "data": {
      "text/plain": [
       "'Greetings'"
      ]
     },
     "execution_count": 2,
     "metadata": {},
     "output_type": "execute_result"
    }
   ],
   "source": [
    "sms"
   ]
  },
  {
   "cell_type": "code",
   "execution_count": 3,
   "id": "378e3b31-5030-415e-99fe-09a6af25f9ec",
   "metadata": {},
   "outputs": [
    {
     "data": {
      "text/plain": [
       "'G'"
      ]
     },
     "execution_count": 3,
     "metadata": {},
     "output_type": "execute_result"
    }
   ],
   "source": [
    "sms[0]"
   ]
  },
  {
   "cell_type": "code",
   "execution_count": 4,
   "id": "6da5ab58-3a5f-40fa-8c59-e2b53f7f6a73",
   "metadata": {},
   "outputs": [
    {
     "data": {
      "text/plain": [
       "9"
      ]
     },
     "execution_count": 4,
     "metadata": {},
     "output_type": "execute_result"
    }
   ],
   "source": [
    "len(sms)"
   ]
  },
  {
   "cell_type": "code",
   "execution_count": 5,
   "id": "8cf8216c-7a1d-4db7-a80b-a6908e7c44cd",
   "metadata": {},
   "outputs": [
    {
     "data": {
      "text/plain": [
       "'s'"
      ]
     },
     "execution_count": 5,
     "metadata": {},
     "output_type": "execute_result"
    }
   ],
   "source": [
    "sms[-1]"
   ]
  },
  {
   "cell_type": "code",
   "execution_count": 6,
   "id": "dfa50790-be5e-48db-94de-2817e8dc5da6",
   "metadata": {},
   "outputs": [
    {
     "data": {
      "text/plain": [
       "'in'"
      ]
     },
     "execution_count": 6,
     "metadata": {},
     "output_type": "execute_result"
    }
   ],
   "source": [
    "sms[-4: -2]"
   ]
  },
  {
   "cell_type": "code",
   "execution_count": 7,
   "id": "0e39b995-0706-48d8-bf99-3893c1895576",
   "metadata": {},
   "outputs": [
    {
     "ename": "IndexError",
     "evalue": "string index out of range",
     "output_type": "error",
     "traceback": [
      "\u001b[1;31m---------------------------------------------------------------------------\u001b[0m",
      "\u001b[1;31mIndexError\u001b[0m                                Traceback (most recent call last)",
      "Cell \u001b[1;32mIn[7], line 1\u001b[0m\n\u001b[1;32m----> 1\u001b[0m \u001b[43msms\u001b[49m\u001b[43m[\u001b[49m\u001b[38;5;241;43m14\u001b[39;49m\u001b[43m]\u001b[49m\n",
      "\u001b[1;31mIndexError\u001b[0m: string index out of range"
     ]
    }
   ],
   "source": [
    "sms[14]"
   ]
  },
  {
   "cell_type": "code",
   "execution_count": 8,
   "id": "fbd39137-88ce-430b-af24-c48ddf5f35b3",
   "metadata": {},
   "outputs": [
    {
     "data": {
      "text/plain": [
       "'reet'"
      ]
     },
     "execution_count": 8,
     "metadata": {},
     "output_type": "execute_result"
    }
   ],
   "source": [
    "sms[1:5]"
   ]
  },
  {
   "cell_type": "code",
   "execution_count": 17,
   "id": "040bee76-e72a-4c6b-a0f1-5fed86c66a3b",
   "metadata": {},
   "outputs": [],
   "source": [
    "name = \"arshid Ahmad\""
   ]
  },
  {
   "cell_type": "code",
   "execution_count": 13,
   "id": "a3d50fab-c3ab-49fd-a72a-5b6bde00cd30",
   "metadata": {},
   "outputs": [
    {
     "data": {
      "text/plain": [
       "'Ahmad'"
      ]
     },
     "execution_count": 13,
     "metadata": {},
     "output_type": "execute_result"
    }
   ],
   "source": [
    "name[7:12]"
   ]
  },
  {
   "cell_type": "markdown",
   "id": "b76b8b81-168f-4bf4-8fc0-c990c6d87321",
   "metadata": {},
   "source": [
    "### String Methods"
   ]
  },
  {
   "cell_type": "code",
   "execution_count": 14,
   "id": "671d1171-f09e-4e33-b991-8eb7551069e5",
   "metadata": {},
   "outputs": [
    {
     "data": {
      "text/plain": [
       "12"
      ]
     },
     "execution_count": 14,
     "metadata": {},
     "output_type": "execute_result"
    }
   ],
   "source": [
    "len(name)"
   ]
  },
  {
   "cell_type": "code",
   "execution_count": 18,
   "id": "b6326726-5dea-4a14-b77f-710257ec5f82",
   "metadata": {},
   "outputs": [
    {
     "data": {
      "text/plain": [
       "'Arshid ahmad'"
      ]
     },
     "execution_count": 18,
     "metadata": {},
     "output_type": "execute_result"
    }
   ],
   "source": [
    "# captiloze\n",
    "name.capitalize()"
   ]
  },
  {
   "cell_type": "code",
   "execution_count": 19,
   "id": "820a53a9-1871-4038-9b58-de7f03bc155d",
   "metadata": {},
   "outputs": [
    {
     "data": {
      "text/plain": [
       "'ARSHID AHMAD'"
      ]
     },
     "execution_count": 19,
     "metadata": {},
     "output_type": "execute_result"
    }
   ],
   "source": [
    "# upercase letters\n",
    "name.upper()"
   ]
  },
  {
   "cell_type": "code",
   "execution_count": 20,
   "id": "4ca836cb-d8db-4559-88be-080101942c20",
   "metadata": {},
   "outputs": [
    {
     "data": {
      "text/plain": [
       "'arshid ahmad'"
      ]
     },
     "execution_count": 20,
     "metadata": {},
     "output_type": "execute_result"
    }
   ],
   "source": [
    "# lowercase letters\n",
    "name.lower()"
   ]
  },
  {
   "cell_type": "code",
   "execution_count": 22,
   "id": "03c95b65-6e24-4b2b-a101-2a1c95ea8982",
   "metadata": {},
   "outputs": [
    {
     "data": {
      "text/plain": [
       "'arshid Bhat'"
      ]
     },
     "execution_count": 22,
     "metadata": {},
     "output_type": "execute_result"
    }
   ],
   "source": [
    "#replace\n",
    "name.replace(\"Ahmad\",\"Bhat\")"
   ]
  },
  {
   "cell_type": "code",
   "execution_count": 25,
   "id": "6fe772b8-2a5c-466d-a1dc-b6e3ffdd15e5",
   "metadata": {},
   "outputs": [
    {
     "data": {
      "text/plain": [
       "2"
      ]
     },
     "execution_count": 25,
     "metadata": {},
     "output_type": "execute_result"
    }
   ],
   "source": [
    "# cpnting a specific alpabet in strinf \n",
    "name.count('a')"
   ]
  },
  {
   "cell_type": "code",
   "execution_count": 35,
   "id": "2cf2416a-2d51-4e9d-b27b-aa418f616c32",
   "metadata": {},
   "outputs": [],
   "source": [
    "# fiinding an index number in string\n",
    "messege = \"Jupyter Notebook is, 'Awesome', Yes \""
   ]
  },
  {
   "cell_type": "code",
   "execution_count": 28,
   "id": "746a5b00-33f7-49c3-8b31-8934dee9d7bb",
   "metadata": {},
   "outputs": [
    {
     "data": {
      "text/plain": [
       "17"
      ]
     },
     "execution_count": 28,
     "metadata": {},
     "output_type": "execute_result"
    }
   ],
   "source": [
    "messege.find('i')"
   ]
  },
  {
   "cell_type": "code",
   "execution_count": 29,
   "id": "75934eb9-cf3b-45bc-b699-3eb5ebdf1e25",
   "metadata": {},
   "outputs": [
    {
     "data": {
      "text/plain": [
       "9"
      ]
     },
     "execution_count": 29,
     "metadata": {},
     "output_type": "execute_result"
    }
   ],
   "source": [
    "messege.find(\"o\")"
   ]
  },
  {
   "cell_type": "code",
   "execution_count": 36,
   "id": "3369ac80-2881-4e7c-a794-8579d30c3c3c",
   "metadata": {},
   "outputs": [
    {
     "data": {
      "text/plain": [
       "['Jupyter Notebook is', \" 'Awesome'\", ' Yes ']"
      ]
     },
     "execution_count": 36,
     "metadata": {},
     "output_type": "execute_result"
    }
   ],
   "source": [
    "# splitting string\n",
    "messege.split(\",\")"
   ]
  }
 ],
 "metadata": {
  "kernelspec": {
   "display_name": "Python 3 (ipykernel)",
   "language": "python",
   "name": "python3"
  },
  "language_info": {
   "codemirror_mode": {
    "name": "ipython",
    "version": 3
   },
   "file_extension": ".py",
   "mimetype": "text/x-python",
   "name": "python",
   "nbconvert_exporter": "python",
   "pygments_lexer": "ipython3",
   "version": "3.12.3"
  }
 },
 "nbformat": 4,
 "nbformat_minor": 5
}
