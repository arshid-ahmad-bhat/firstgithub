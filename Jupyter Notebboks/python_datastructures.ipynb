{
 "cells": [
  {
   "cell_type": "markdown",
   "id": "49be370c-8001-4ec9-acce-1a640123798f",
   "metadata": {},
   "source": [
    "# Python Data_Structures\n",
    "1. Tuple\n",
    "2. List\n",
    "3. Set\n",
    "4. Dictionory"
   ]
  },
  {
   "cell_type": "markdown",
   "id": "b0901e8d-ba39-4cf3-9406-7716ec770c89",
   "metadata": {},
   "source": [
    "## 1. Tuple\n",
    "- ordered collection of elements\n",
    "- enclosed in () round braces | parenthesis\n",
    "- different typeofelements can be stored\n",
    "- stored elements cannot be changed (unmutable)"
   ]
  },
  {
   "cell_type": "code",
   "execution_count": 2,
   "id": "6afea898-c5bb-4d40-972a-9b3ab5269812",
   "metadata": {},
   "outputs": [],
   "source": [
    "tup1 = (6,\"Arshid\", True, 24.4)"
   ]
  },
  {
   "cell_type": "code",
   "execution_count": 3,
   "id": "65907aa4-5435-4c32-a3bf-9210e281b383",
   "metadata": {},
   "outputs": [
    {
     "data": {
      "text/plain": [
       "(6, 'Arshid', True, 24.4)"
      ]
     },
     "execution_count": 3,
     "metadata": {},
     "output_type": "execute_result"
    }
   ],
   "source": [
    "tup1"
   ]
  },
  {
   "cell_type": "code",
   "execution_count": 4,
   "id": "13259e1c-40ea-45f6-8d22-01adf2a52e9a",
   "metadata": {},
   "outputs": [
    {
     "data": {
      "text/plain": [
       "tuple"
      ]
     },
     "execution_count": 4,
     "metadata": {},
     "output_type": "execute_result"
    }
   ],
   "source": [
    "type(tup1)"
   ]
  },
  {
   "cell_type": "markdown",
   "id": "881d36f1-ec37-454d-afbb-7f3220a5b1f3",
   "metadata": {},
   "source": [
    "### indexing in tuple"
   ]
  },
  {
   "cell_type": "code",
   "execution_count": 5,
   "id": "eb011893-7b27-46bd-bd2b-de0fa46748c1",
   "metadata": {},
   "outputs": [
    {
     "data": {
      "text/plain": [
       "'Arshid'"
      ]
     },
     "execution_count": 5,
     "metadata": {},
     "output_type": "execute_result"
    }
   ],
   "source": [
    "tup1[1]"
   ]
  },
  {
   "cell_type": "code",
   "execution_count": 8,
   "id": "4b714c49-383c-43cb-91b3-e19543f1e4c9",
   "metadata": {},
   "outputs": [
    {
     "data": {
      "text/plain": [
       "(True, 24.4)"
      ]
     },
     "execution_count": 8,
     "metadata": {},
     "output_type": "execute_result"
    }
   ],
   "source": [
    "tup1[2:4]"
   ]
  },
  {
   "cell_type": "code",
   "execution_count": 9,
   "id": "262a4bd4-b947-4c87-82e7-50f215568cdf",
   "metadata": {},
   "outputs": [
    {
     "data": {
      "text/plain": [
       "4"
      ]
     },
     "execution_count": 9,
     "metadata": {},
     "output_type": "execute_result"
    }
   ],
   "source": [
    "len(tup1)"
   ]
  },
  {
   "cell_type": "code",
   "execution_count": 12,
   "id": "f78fd39f-75c0-4634-8a51-1fc746286923",
   "metadata": {},
   "outputs": [
    {
     "data": {
      "text/plain": [
       "(6, 'Arshid', True)"
      ]
     },
     "execution_count": 12,
     "metadata": {},
     "output_type": "execute_result"
    }
   ],
   "source": [
    "tup1[-6:-1]"
   ]
  },
  {
   "cell_type": "code",
   "execution_count": 37,
   "id": "9edb6625-6233-4216-952a-90071b2dd4f9",
   "metadata": {},
   "outputs": [],
   "source": [
    "tup2 = (1,2,4,5,2,3,56)"
   ]
  },
  {
   "cell_type": "code",
   "execution_count": 38,
   "id": "d8e271ed-6043-4d6d-89b5-d7529ef62a7a",
   "metadata": {},
   "outputs": [
    {
     "data": {
      "text/plain": [
       "tuple"
      ]
     },
     "execution_count": 38,
     "metadata": {},
     "output_type": "execute_result"
    }
   ],
   "source": [
    "type(tup2)"
   ]
  },
  {
   "cell_type": "code",
   "execution_count": 39,
   "id": "84d0af7c-c7cf-430d-be98-c16e335b76a3",
   "metadata": {},
   "outputs": [
    {
     "data": {
      "text/plain": [
       "(6, 'Arshid', True, 24.4, 1, 2, 4, 5, 2, 3, 56)"
      ]
     },
     "execution_count": 39,
     "metadata": {},
     "output_type": "execute_result"
    }
   ],
   "source": [
    "tup1+tup2"
   ]
  },
  {
   "cell_type": "code",
   "execution_count": 40,
   "id": "ae0a3657-26ef-4137-954d-619e54b513d0",
   "metadata": {},
   "outputs": [
    {
     "data": {
      "text/plain": [
       "1"
      ]
     },
     "execution_count": 40,
     "metadata": {},
     "output_type": "execute_result"
    }
   ],
   "source": [
    "#minimum\n",
    "min(tup2)"
   ]
  },
  {
   "cell_type": "code",
   "execution_count": 41,
   "id": "e417f4a0-ea49-4a0d-a40a-e59e10b86de1",
   "metadata": {},
   "outputs": [
    {
     "data": {
      "text/plain": [
       "56"
      ]
     },
     "execution_count": 41,
     "metadata": {},
     "output_type": "execute_result"
    }
   ],
   "source": [
    "#maximum\n",
    "max(tup2)"
   ]
  },
  {
   "cell_type": "code",
   "execution_count": 42,
   "id": "24606455-2f99-47ae-8e72-8f0456620309",
   "metadata": {},
   "outputs": [
    {
     "data": {
      "text/plain": [
       "(1, 2, 4, 5, 2, 3, 56, 1, 2, 4, 5, 2, 3, 56, 1, 2, 4, 5, 2, 3, 56)"
      ]
     },
     "execution_count": 42,
     "metadata": {},
     "output_type": "execute_result"
    }
   ],
   "source": [
    "tup2*3"
   ]
  },
  {
   "cell_type": "markdown",
   "id": "c4b9c938-b6c7-4b5e-9ba7-7e22a64e2dd4",
   "metadata": {},
   "source": [
    "## 2. List \n",
    "- ordered collection of elements\n",
    "- enclosed in []\n",
    "- stored elements can be changed (mutable)"
   ]
  },
  {
   "cell_type": "code",
   "execution_count": 43,
   "id": "6145b276-9cec-4897-81d9-2ffd1ba5ed42",
   "metadata": {},
   "outputs": [],
   "source": [
    "list1 = [10, \"Arshid\", True , 34.5]"
   ]
  },
  {
   "cell_type": "code",
   "execution_count": 44,
   "id": "613b9448-7677-4390-b716-422b6cf1ad2f",
   "metadata": {},
   "outputs": [
    {
     "data": {
      "text/plain": [
       "[10, 'Arshid', True, 34.5]"
      ]
     },
     "execution_count": 44,
     "metadata": {},
     "output_type": "execute_result"
    }
   ],
   "source": [
    "list1"
   ]
  },
  {
   "cell_type": "code",
   "execution_count": 46,
   "id": "94d1f89f-b7aa-4359-8bd0-bc7ded2564f3",
   "metadata": {},
   "outputs": [
    {
     "data": {
      "text/plain": [
       "4"
      ]
     },
     "execution_count": 46,
     "metadata": {},
     "output_type": "execute_result"
    }
   ],
   "source": [
    "len(list1)"
   ]
  },
  {
   "cell_type": "code",
   "execution_count": 49,
   "id": "b675eea2-0915-4634-8a7c-e3dbc9252eee",
   "metadata": {},
   "outputs": [
    {
     "data": {
      "text/plain": [
       "'Arshid'"
      ]
     },
     "execution_count": 49,
     "metadata": {},
     "output_type": "execute_result"
    }
   ],
   "source": [
    "list1[1]"
   ]
  },
  {
   "cell_type": "code",
   "execution_count": 50,
   "id": "4d267fec-e111-40b4-ba2f-392dad2d6037",
   "metadata": {},
   "outputs": [
    {
     "data": {
      "text/plain": [
       "34.5"
      ]
     },
     "execution_count": 50,
     "metadata": {},
     "output_type": "execute_result"
    }
   ],
   "source": [
    "list1[-1]"
   ]
  },
  {
   "cell_type": "code",
   "execution_count": 51,
   "id": "eb5a369e-760e-46e9-9ba9-64b6d1ce4a2a",
   "metadata": {},
   "outputs": [],
   "source": [
    "list1.append(\"AI\")"
   ]
  },
  {
   "cell_type": "code",
   "execution_count": 52,
   "id": "06e77bb7-7edc-47ee-b560-9b60e159a69c",
   "metadata": {},
   "outputs": [
    {
     "data": {
      "text/plain": [
       "[10, 'Arshid', True, 34.5, 'AI']"
      ]
     },
     "execution_count": 52,
     "metadata": {},
     "output_type": "execute_result"
    }
   ],
   "source": [
    "list1"
   ]
  },
  {
   "cell_type": "code",
   "execution_count": 55,
   "id": "e5c8b4f9-05f5-426f-b7e3-1fb53a52d056",
   "metadata": {},
   "outputs": [],
   "source": [
    "list1.remove(list1[3])"
   ]
  },
  {
   "cell_type": "code",
   "execution_count": 56,
   "id": "db7297fa-5202-4593-9a6f-5d0be49801ac",
   "metadata": {},
   "outputs": [
    {
     "data": {
      "text/plain": [
       "[10, 'Arshid', True]"
      ]
     },
     "execution_count": 56,
     "metadata": {},
     "output_type": "execute_result"
    }
   ],
   "source": [
    "list1"
   ]
  },
  {
   "cell_type": "code",
   "execution_count": 57,
   "id": "f7f1f775-0103-43d7-b362-caadd9231a61",
   "metadata": {},
   "outputs": [],
   "source": [
    "list1.append(34.5)"
   ]
  },
  {
   "cell_type": "code",
   "execution_count": 58,
   "id": "c90e010c-421d-43ea-9c58-daa1bbe87d5d",
   "metadata": {},
   "outputs": [
    {
     "data": {
      "text/plain": [
       "[10, 'Arshid', True, 34.5]"
      ]
     },
     "execution_count": 58,
     "metadata": {},
     "output_type": "execute_result"
    }
   ],
   "source": [
    "list1"
   ]
  },
  {
   "cell_type": "code",
   "execution_count": 59,
   "id": "5113ec4d-9333-4d30-8418-ed849ce1e89c",
   "metadata": {},
   "outputs": [],
   "source": [
    "list1.remove(34.5)"
   ]
  },
  {
   "cell_type": "code",
   "execution_count": 60,
   "id": "84f86583-eee2-4305-8fa2-1e377232eadf",
   "metadata": {},
   "outputs": [
    {
     "data": {
      "text/plain": [
       "[10, 'Arshid', True]"
      ]
     },
     "execution_count": 60,
     "metadata": {},
     "output_type": "execute_result"
    }
   ],
   "source": [
    "list1"
   ]
  },
  {
   "cell_type": "code",
   "execution_count": 62,
   "id": "ab538b38-9028-421d-a1af-88f00b19f78a",
   "metadata": {},
   "outputs": [],
   "source": [
    "list2 = ['Khajoor', 'Badam', \"Akhrooot\", \"Banans\", \"Milk\"]"
   ]
  },
  {
   "cell_type": "code",
   "execution_count": 63,
   "id": "a8c68419-700d-4e2b-ae9c-e3cb2dd72f8b",
   "metadata": {},
   "outputs": [
    {
     "data": {
      "text/plain": [
       "['Khajoor', 'Badam', 'Akhrooot', 'Banans', 'Milk']"
      ]
     },
     "execution_count": 63,
     "metadata": {},
     "output_type": "execute_result"
    }
   ],
   "source": [
    "list2"
   ]
  },
  {
   "cell_type": "code",
   "execution_count": 65,
   "id": "9b22fff0-5f31-4e42-80fa-104eaa070b08",
   "metadata": {},
   "outputs": [
    {
     "data": {
      "text/plain": [
       "[10, 'Arshid', True, 'Khajoor', 'Badam', 'Akhrooot', 'Banans', 'Milk']"
      ]
     },
     "execution_count": 65,
     "metadata": {},
     "output_type": "execute_result"
    }
   ],
   "source": [
    "list1+list2"
   ]
  },
  {
   "cell_type": "code",
   "execution_count": 66,
   "id": "8a795ba1-9085-47b3-82a6-a2cbd038b952",
   "metadata": {},
   "outputs": [
    {
     "data": {
      "text/plain": [
       "[10,\n",
       " 'Arshid',\n",
       " True,\n",
       " 'Khajoor',\n",
       " 'Badam',\n",
       " 'Akhrooot',\n",
       " 'Banans',\n",
       " 'Milk',\n",
       " 'Khajoor',\n",
       " 'Badam',\n",
       " 'Akhrooot',\n",
       " 'Banans',\n",
       " 'Milk']"
      ]
     },
     "execution_count": 66,
     "metadata": {},
     "output_type": "execute_result"
    }
   ],
   "source": [
    "list1+list2*2"
   ]
  },
  {
   "cell_type": "code",
   "execution_count": 68,
   "id": "8fabbfe0-4afb-42c7-abaf-287c8c3670a4",
   "metadata": {},
   "outputs": [],
   "source": [
    "list2.remove('Banans')"
   ]
  },
  {
   "cell_type": "code",
   "execution_count": 69,
   "id": "061449ac-b00a-420a-86c3-2bcfda0716f2",
   "metadata": {},
   "outputs": [
    {
     "data": {
      "text/plain": [
       "['Khajoor', 'Badam', 'Akhrooot', 'Milk']"
      ]
     },
     "execution_count": 69,
     "metadata": {},
     "output_type": "execute_result"
    }
   ],
   "source": [
    "list2"
   ]
  },
  {
   "cell_type": "code",
   "execution_count": 70,
   "id": "f9e69cee-bfaf-4bfc-a0a4-5181d833e6e8",
   "metadata": {},
   "outputs": [],
   "source": [
    "list2.reverse()"
   ]
  },
  {
   "cell_type": "code",
   "execution_count": 71,
   "id": "d0fa953c-42ac-4b15-a555-b5785c8b43a9",
   "metadata": {},
   "outputs": [
    {
     "data": {
      "text/plain": [
       "['Milk', 'Akhrooot', 'Badam', 'Khajoor']"
      ]
     },
     "execution_count": 71,
     "metadata": {},
     "output_type": "execute_result"
    }
   ],
   "source": [
    "list2"
   ]
  },
  {
   "cell_type": "code",
   "execution_count": 72,
   "id": "b91fbec4-d277-48e3-90db-8c55742d0a8a",
   "metadata": {},
   "outputs": [],
   "source": [
    "list3 = [34,5,6,8,23]"
   ]
  },
  {
   "cell_type": "code",
   "execution_count": 74,
   "id": "3753610a-7546-4688-a2dc-ee1a67630700",
   "metadata": {},
   "outputs": [],
   "source": [
    "list3.sort()"
   ]
  },
  {
   "cell_type": "code",
   "execution_count": 75,
   "id": "c286c26e-f780-4267-aaf6-3a7834d18ced",
   "metadata": {},
   "outputs": [
    {
     "data": {
      "text/plain": [
       "[5, 6, 8, 23, 34]"
      ]
     },
     "execution_count": 75,
     "metadata": {},
     "output_type": "execute_result"
    }
   ],
   "source": [
    "list3"
   ]
  },
  {
   "cell_type": "code",
   "execution_count": 76,
   "id": "2152390f-42e2-4220-afc2-8050a3b57b3a",
   "metadata": {},
   "outputs": [],
   "source": [
    "list3.append(\"Done !!!!!!!!!!!!!\")"
   ]
  },
  {
   "cell_type": "code",
   "execution_count": 77,
   "id": "b622e8c8-c9be-4a77-beab-16317bbc1740",
   "metadata": {},
   "outputs": [
    {
     "data": {
      "text/plain": [
       "[5, 6, 8, 23, 34, 'Done !!!!!!!!!!!!!']"
      ]
     },
     "execution_count": 77,
     "metadata": {},
     "output_type": "execute_result"
    }
   ],
   "source": [
    "list3"
   ]
  },
  {
   "cell_type": "code",
   "execution_count": 78,
   "id": "6fc65f47-39c2-47dc-a37f-b60afac6616b",
   "metadata": {},
   "outputs": [
    {
     "data": {
      "text/plain": [
       "[10,\n",
       " 'Arshid',\n",
       " True,\n",
       " 'Milk',\n",
       " 'Akhrooot',\n",
       " 'Badam',\n",
       " 'Khajoor',\n",
       " 5,\n",
       " 6,\n",
       " 8,\n",
       " 23,\n",
       " 34,\n",
       " 'Done !!!!!!!!!!!!!']"
      ]
     },
     "execution_count": 78,
     "metadata": {},
     "output_type": "execute_result"
    }
   ],
   "source": [
    "list1+list2+list3"
   ]
  },
  {
   "cell_type": "markdown",
   "id": "2e4155fb-9e21-48e5-96ce-2874a950a53c",
   "metadata": {},
   "source": [
    "## 3- Dictonaries\n",
    "- An ordered collection of elements\n",
    "- Key and Value\n",
    "- curly braces or brakets {}\n",
    "- Mutateable \n"
   ]
  },
  {
   "cell_type": "code",
   "execution_count": 79,
   "id": "c0ee1e86-bc8e-496f-ac0c-2f7159eb1b50",
   "metadata": {},
   "outputs": [],
   "source": [
    "books = {\"Math\" : 4 , \"Englis\": 12, \"Statistics\" : 7, \"History\": 5 }"
   ]
  },
  {
   "cell_type": "code",
   "execution_count": 80,
   "id": "da240ae1-01d3-4a22-9dce-1c8f43f3b938",
   "metadata": {},
   "outputs": [
    {
     "data": {
      "text/plain": [
       "{'Math': 4, 'Englis': 12, 'Statistics': 7, 'History': 5}"
      ]
     },
     "execution_count": 80,
     "metadata": {},
     "output_type": "execute_result"
    }
   ],
   "source": [
    "books"
   ]
  },
  {
   "cell_type": "code",
   "execution_count": 83,
   "id": "c6b61251-8c02-49c1-997e-084dccf880dc",
   "metadata": {},
   "outputs": [
    {
     "data": {
      "text/plain": [
       "dict_keys(['Math', 'Englis', 'Statistics', 'History'])"
      ]
     },
     "execution_count": 83,
     "metadata": {},
     "output_type": "execute_result"
    }
   ],
   "source": [
    "books.keys()"
   ]
  },
  {
   "cell_type": "code",
   "execution_count": 84,
   "id": "f8634d6f-f8c8-4658-a5ea-b41e556f41ff",
   "metadata": {},
   "outputs": [
    {
     "data": {
      "text/plain": [
       "dict_values([4, 12, 7, 5])"
      ]
     },
     "execution_count": 84,
     "metadata": {},
     "output_type": "execute_result"
    }
   ],
   "source": [
    "books.values()"
   ]
  },
  {
   "cell_type": "code",
   "execution_count": 87,
   "id": "f373d365-3812-498f-b9b7-f0a08207827d",
   "metadata": {},
   "outputs": [],
   "source": [
    "#update the values\n",
    "books[\"Math\"]= 5"
   ]
  },
  {
   "cell_type": "code",
   "execution_count": 92,
   "id": "585001e6-359c-49d5-bd8c-aa72f35a1643",
   "metadata": {},
   "outputs": [],
   "source": [
    "#adding new\n",
    "books[\"Scince\"]=33"
   ]
  },
  {
   "cell_type": "code",
   "execution_count": 89,
   "id": "13ecf770-60f2-4425-a7c3-1173ce15d786",
   "metadata": {},
   "outputs": [
    {
     "data": {
      "text/plain": [
       "{'Math': 5, 'Englis': 12, 'Statistics': 7, 'History': 5, 'Scince': 33}"
      ]
     },
     "execution_count": 89,
     "metadata": {},
     "output_type": "execute_result"
    }
   ],
   "source": [
    "books"
   ]
  },
  {
   "cell_type": "code",
   "execution_count": 91,
   "id": "4fbee04d-4e3f-408b-9ea0-7666c7e7cb9b",
   "metadata": {},
   "outputs": [],
   "source": [
    "books2 = {\"Arabic\": 5, \"Urdu\": 4}"
   ]
  },
  {
   "cell_type": "code",
   "execution_count": 94,
   "id": "4a7189ce-ee57-4755-8530-312a09728951",
   "metadata": {},
   "outputs": [],
   "source": [
    "books.update(books2)"
   ]
  },
  {
   "cell_type": "code",
   "execution_count": 95,
   "id": "70b218e9-04b6-4ac9-bf4c-eaf54edeb334",
   "metadata": {},
   "outputs": [
    {
     "data": {
      "text/plain": [
       "{'Math': 5,\n",
       " 'Englis': 12,\n",
       " 'Statistics': 7,\n",
       " 'History': 5,\n",
       " 'Scince': 33,\n",
       " 'Arabic': 5,\n",
       " 'Urdu': 4}"
      ]
     },
     "execution_count": 95,
     "metadata": {},
     "output_type": "execute_result"
    }
   ],
   "source": [
    "books"
   ]
  },
  {
   "cell_type": "markdown",
   "id": "8682aa40-1189-4e6d-ae20-4375ab8e80a5",
   "metadata": {},
   "source": [
    "## 4. Sets \n",
    "- Unorderd andunindexed\n",
    "- curly braces\n",
    "- No duplicates allowed "
   ]
  },
  {
   "cell_type": "code",
   "execution_count": 97,
   "id": "3aadfef6-d7dc-47ee-8af5-fe1741808e93",
   "metadata": {},
   "outputs": [],
   "source": [
    "set1 = {12,3.4,\"Arshid\", True}"
   ]
  },
  {
   "cell_type": "code",
   "execution_count": 98,
   "id": "f11cc242-333c-4c85-a0c2-3c00f426f483",
   "metadata": {},
   "outputs": [
    {
     "data": {
      "text/plain": [
       "{12, 3.4, 'Arshid', True}"
      ]
     },
     "execution_count": 98,
     "metadata": {},
     "output_type": "execute_result"
    }
   ],
   "source": [
    "set1"
   ]
  },
  {
   "cell_type": "code",
   "execution_count": 99,
   "id": "99752fc8-3fa2-4df7-aa1a-f6f528307c9c",
   "metadata": {},
   "outputs": [],
   "source": [
    "set1.add(44)"
   ]
  },
  {
   "cell_type": "code",
   "execution_count": 100,
   "id": "571dda8c-e461-4273-b76f-d1d9244525fe",
   "metadata": {},
   "outputs": [
    {
     "data": {
      "text/plain": [
       "{12, 3.4, 44, 'Arshid', True}"
      ]
     },
     "execution_count": 100,
     "metadata": {},
     "output_type": "execute_result"
    }
   ],
   "source": [
    "set1"
   ]
  },
  {
   "cell_type": "code",
   "execution_count": 102,
   "id": "82bb8ba3-f89e-41f0-b124-e8f713269942",
   "metadata": {},
   "outputs": [],
   "source": [
    "set2 = {12, 4, 5, \"Arshid\"}"
   ]
  },
  {
   "cell_type": "code",
   "execution_count": 103,
   "id": "d96c1f5f-ee35-40d8-9edd-ddee3ccb666c",
   "metadata": {},
   "outputs": [
    {
     "data": {
      "text/plain": [
       "{12, 'Arshid'}"
      ]
     },
     "execution_count": 103,
     "metadata": {},
     "output_type": "execute_result"
    }
   ],
   "source": [
    "set1.intersection(set2)"
   ]
  }
 ],
 "metadata": {
  "kernelspec": {
   "display_name": "Python 3 (ipykernel)",
   "language": "python",
   "name": "python3"
  },
  "language_info": {
   "codemirror_mode": {
    "name": "ipython",
    "version": 3
   },
   "file_extension": ".py",
   "mimetype": "text/x-python",
   "name": "python",
   "nbconvert_exporter": "python",
   "pygments_lexer": "ipython3",
   "version": "3.12.3"
  }
 },
 "nbformat": 4,
 "nbformat_minor": 5
}
